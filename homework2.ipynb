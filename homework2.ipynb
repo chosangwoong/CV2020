{
 "cells": [
  {
   "cell_type": "code",
   "execution_count": 2,
   "metadata": {},
   "outputs": [],
   "source": [
    "import cv2\n",
    "import numpy as np"
   ]
  },
  {
   "cell_type": "code",
   "execution_count": 3,
   "metadata": {},
   "outputs": [],
   "source": [
    "col, width, row, height = -1,-1,-1,-1\n",
    "frame = None\n",
    "frame2 = None\n",
    "inputmode = False\n",
    "rectangle = False\n",
    "trackWindow = None\n",
    "roi_hist = None"
   ]
  },
  {
   "cell_type": "code",
   "execution_count": 4,
   "metadata": {},
   "outputs": [],
   "source": [
    "def onMouse(event, x, y, flags, param):\n",
    "    global col, width, row, height,frame,frame2,imputmode\n",
    "    global rectangle, roi_hist, trackWindow\n",
    "    \n",
    "    if inputmode:\n",
    "        if event == cv2.EVENT_LBUTTONDOWN:\n",
    "            rectangle = True\n",
    "            col, row = x,y\n",
    "        \n",
    "        elif event == cv2.EVENT_MOUSEMOVE:\n",
    "            if rectangle:\n",
    "                frame = frame2.copy()\n",
    "                cv2.rectangle(frame,(col,row),(x,y),(0,255,0),2)\n",
    "                cv2.imshow('frame', frame)\n",
    "            \n",
    "        elif event == cv2.EVENT_LBUTTONUP:\n",
    "            inputmode = False\n",
    "            rectangle = False\n",
    "            cv2.rectangle(frame,(col,row),(x,y),(0,255,0),2)\n",
    "            height, width = abs(row-y), abs(col - x)\n",
    "            trackWindow = (col, row, width, hight)\n",
    "            roi = frame[row:row+height,col:col+width]\n",
    "            roi = cv2.cvtColor(roi,cv2.COLOR_BGR2HSV)\n",
    "            roi_hist = cv2.calcHist([roi],[0],None,[180],[0,180])\n",
    "            cv2.normalize(roi_hist, roi_hist,0,255,cv2.NORM_MINMAX)\n",
    "        return"
   ]
  },
  {
   "cell_type": "code",
   "execution_count": 1,
   "metadata": {},
   "outputs": [
    {
     "name": "stdout",
     "output_type": "stream",
     "text": [
      "영상 불러오기를 실패하셨습니다.\n"
     ]
    }
   ],
   "source": [
    "def camShift():\n",
    "    global frame,frame2,imputmode,roi_hist, trackWindow, out\n",
    "    \n",
    "    try:\n",
    "        cap=cv2.VideoCapture('tracking1.avi')\n",
    "        cap.set(3,480)\n",
    "        cap.set(4, 320)\n",
    "    except:\n",
    "        print(\"영상 불러오기를 실패하셨습니다.\")\n",
    "        return\n",
    "    \n",
    "    ret, frame = cap.read()\n",
    "    \n",
    "    cv2.namedWindow('frame')\n",
    "    cv2.setMouseCallback('frame', onMouse, param=(frame,frame2))\n",
    "    \n",
    "    termination=(cv2.TERM_CRITERIA_EPS|cv2.TERM_CRITERIA_COUNT,10,1)\n",
    "    \n",
    "    while True:\n",
    "        ret, frame=cap.read()\n",
    "        if not ret:\n",
    "            break\n",
    "        \n",
    "        if trackWindow is not None:\n",
    "            hsv = cv2.cvtColor(frame,cv2.COLOR_BGR2HSV)\n",
    "            dst = cv2.calcBackProject([hsv],[0],roi_hist,[0,180],1)\n",
    "            ret, trackWindow = cv2.CamShift(dst,trackWindow,termination)            \n",
    "            pts = cv2.boxPoint(ret)\n",
    "            pts = np.int0(pts)\n",
    "            cv2.polylines(frame,[pts],True,(0,255,0),2)\n",
    "            \n",
    "            cv2.imshow('frame',frame)\n",
    "            \n",
    "            k=cv2.waitKey(60)&0xFF\n",
    "            if k == 27:\n",
    "                break\n",
    "            \n",
    "            if k==ord('i'):\n",
    "                print('추적할 영역 지정후 아무키를 눌러주세요')\n",
    "                inputmode = True\n",
    "                frame2 = frame.copy()\n",
    "                while inputmode:\n",
    "                    cv2.imshow('frame',frame)\n",
    "                    cv2.waitKey(0)\n",
    "        cap.release()\n",
    "        cv2.destroyAllWindows()\n",
    "camShift()"
   ]
  },
  {
   "cell_type": "code",
   "execution_count": null,
   "metadata": {},
   "outputs": [],
   "source": []
  }
 ],
 "metadata": {
  "kernelspec": {
   "display_name": "Python 3",
   "language": "python",
   "name": "python3"
  },
  "language_info": {
   "codemirror_mode": {
    "name": "ipython",
    "version": 3
   },
   "file_extension": ".py",
   "mimetype": "text/x-python",
   "name": "python",
   "nbconvert_exporter": "python",
   "pygments_lexer": "ipython3",
   "version": "3.8.3"
  }
 },
 "nbformat": 4,
 "nbformat_minor": 4
}
